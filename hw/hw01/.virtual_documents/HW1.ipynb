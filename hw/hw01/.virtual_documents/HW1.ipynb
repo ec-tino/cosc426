





import pandas as pd
result_wordfreq = pd.read_csv('results/ic_result.tsv', sep='\t')
result_freq = pd.read_csv('results/ic_result_freq.tsv', sep='\t')





result_wordfreq.head()


result_freq.head()






