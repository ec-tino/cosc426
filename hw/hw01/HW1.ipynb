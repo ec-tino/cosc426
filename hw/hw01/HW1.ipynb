{
 "cells": [
  {
   "cell_type": "markdown",
   "id": "fefb62c0-7322-4532-b271-16282e19e97b",
   "metadata": {},
   "source": [
    "# HW 1: Minimal Pair with Implicit Causality\n",
    "### COSC 426: Fall 2025, Colgate University\n",
    "\n",
    "Use this notebook to load in the results from your experiment, display them, and answer the question(s). Feel free to add as many code and markdown chunks as you would like in each of the sub-sections. \n",
    "\n",
    "**If you use any external resources (e.g., code snippets, reference articles), please cite them in comments or text!**"
   ]
  },
  {
   "cell_type": "markdown",
   "id": "36a20c5e-a3a8-4302-bc2a-76e725f57911",
   "metadata": {},
   "source": [
    "## Setup and data loading\n",
    "In this section, load the data, import any packages or files, and define any functions you need."
   ]
  },
  {
   "cell_type": "markdown",
   "id": "548cdf5d-4c0f-43f4-aa75-a62d176bf1f2",
   "metadata": {},
   "source": [
    "## Results from the experiment\n",
    "In this section, display the results required to answer your question. This can be in the format of a dataframe with just the required rows, or as a plot. "
   ]
  },
  {
   "cell_type": "markdown",
   "id": "ff45c5e2-3ddf-45f1-a4ec-1384367be16b",
   "metadata": {},
   "source": [
    "## Discussion\n",
    "In this section, include a discussion of your results and how it pertains to the question(s) you picked. This section will likely only have markdown chunks"
   ]
  }
 ],
 "metadata": {
  "kernelspec": {
   "display_name": "nlp",
   "language": "python",
   "name": "python3"
  },
  "language_info": {
   "codemirror_mode": {
    "name": "ipython",
    "version": 3
   },
   "file_extension": ".py",
   "mimetype": "text/x-python",
   "name": "python",
   "nbconvert_exporter": "python",
   "pygments_lexer": "ipython3",
   "version": "3.10.18"
  }
 },
 "nbformat": 4,
 "nbformat_minor": 5
}
