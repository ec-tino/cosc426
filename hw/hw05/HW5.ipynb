{
 "cells": [
  {
   "cell_type": "markdown",
   "id": "dcc13c4b-13e3-4d19-83ab-06640acf13dc",
   "metadata": {},
   "source": [
    "## HW 5: LSTM Language Models\n",
    "### COSC 426: Fall 2025, Colgate University\n",
    "\n",
    "Use this notebook to run your experiments and answer questions. Add as many code or markdown chunks as you would like for each (sub)section. Please use markdown chunks for written responses. \n",
    "\n",
    "**If you use any external resources (e.g., code snippets, reference articles), please cite them in comments or text!**"
   ]
  },
  {
   "cell_type": "markdown",
   "id": "2b80409c-fd8f-4dc6-a0c0-46088181d899",
   "metadata": {},
   "source": [
    "## Part 1: Understanding and completing the four classes"
   ]
  },
  {
   "cell_type": "code",
   "execution_count": null,
   "id": "b35e1d9b-a395-4cb0-a77e-3230bcd9bc8d",
   "metadata": {},
   "outputs": [],
   "source": [
    "import LM\n",
    "import torch"
   ]
  },
  {
   "cell_type": "markdown",
   "id": "cb608aaf-1253-48e7-bdfb-3b7f7f9d2def",
   "metadata": {},
   "source": [
    "### Part 1.1"
   ]
  },
  {
   "cell_type": "code",
   "execution_count": null,
   "id": "2ca0f705-2206-488b-8bb8-4ef2a655e887",
   "metadata": {},
   "outputs": [],
   "source": []
  },
  {
   "cell_type": "markdown",
   "id": "793b323f-d094-47ee-bb43-8ca18f59e091",
   "metadata": {},
   "source": [
    "### Part 1.2"
   ]
  },
  {
   "cell_type": "code",
   "execution_count": null,
   "id": "23b84a8a-2668-4df8-9d17-7cf1accde46b",
   "metadata": {},
   "outputs": [],
   "source": []
  },
  {
   "cell_type": "markdown",
   "id": "2112e481-514c-43f3-88d3-0213794ab5a7",
   "metadata": {},
   "source": [
    "### Part 1.3"
   ]
  },
  {
   "cell_type": "code",
   "execution_count": null,
   "id": "a82df5b4-76df-499b-8502-ca043dbd175f",
   "metadata": {},
   "outputs": [],
   "source": []
  },
  {
   "cell_type": "markdown",
   "id": "1ae154ca-9da8-45e5-8df6-383b1a0f2e1a",
   "metadata": {},
   "source": [
    "### Part 1.4"
   ]
  },
  {
   "cell_type": "code",
   "execution_count": null,
   "id": "f5a9a237-5f0b-4941-8e00-2beffa95121f",
   "metadata": {},
   "outputs": [],
   "source": []
  },
  {
   "cell_type": "markdown",
   "id": "38409e7a-62aa-4d14-97c3-ea7c4a79afd6",
   "metadata": {},
   "source": [
    "## Part 2: Generating predictions from models trained on SAE and Yoda sentences"
   ]
  },
  {
   "cell_type": "code",
   "execution_count": null,
   "id": "0971617a-2d59-4f03-94e4-f8bb76b30c8f",
   "metadata": {},
   "outputs": [],
   "source": []
  },
  {
   "cell_type": "markdown",
   "id": "dc724fbb-6df8-45f5-a66d-966ef5e11464",
   "metadata": {},
   "source": [
    "## Part 3: Analyzing and interpreting the predictions with the analyze mode from NLPScholar"
   ]
  },
  {
   "cell_type": "code",
   "execution_count": null,
   "id": "a130d006-1895-4c1c-9baa-e41bf93dc1e7",
   "metadata": {},
   "outputs": [],
   "source": []
  },
  {
   "cell_type": "markdown",
   "id": "511dfcb3-bca5-45ce-b72a-58ce00b0254f",
   "metadata": {},
   "source": [
    "## Part 4 (optional): Implement a bidirectional version of the LSTM_LM "
   ]
  },
  {
   "cell_type": "code",
   "execution_count": null,
   "id": "5a67de1b-8350-4044-8834-ac5dec8187d0",
   "metadata": {},
   "outputs": [],
   "source": []
  }
 ],
 "metadata": {
  "kernelspec": {
   "display_name": "cosc410",
   "language": "python",
   "name": "cosc410"
  },
  "language_info": {
   "codemirror_mode": {
    "name": "ipython",
    "version": 3
   },
   "file_extension": ".py",
   "mimetype": "text/x-python",
   "name": "python",
   "nbconvert_exporter": "python",
   "pygments_lexer": "ipython3",
   "version": "3.10.16"
  }
 },
 "nbformat": 4,
 "nbformat_minor": 5
}
