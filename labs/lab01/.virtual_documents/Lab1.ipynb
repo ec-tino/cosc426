





import pandas as pd
min_pair_byword = pd.read_csv("results/agreement.tsv", sep="\t")
min_pair_byword.head()


min_pairs_like = min_pair_byword[min_pair_byword["lemma"] == "LIKE"]
min_pairs_like.head()








ner_file = pd.read_csv("results/ner_byword.tsv", sep="\t")
ner_file.head()


accuracy = (ner_file["target"] == ner_file["predicted"])
accuracy.head()
print(accuracy.mean())
print(accuracy.count())


skip = ["O"]

## if the value is O, accuracy_noO is set to false even if target == predicted  
accuracy_noO = (ner_file["target"] == ner_file["predicted"]) & (~ner_file["target"].isin(skip))

#accuracy_noO.head()

## count is still 55, but sum is different because I considered non "O" targets only
print(accuracy_noO.count())
print(accuracy_noO.sum()) 

#count the number of rows with "O"
count_Os = (ner_file["target"] == "O").sum()
print(count_Os)

# count of rows that do not include target == "O"
accurate_rows_noO = accuracy.count() - count_Os
print(accurate_rows_noO)

#Accuracy if we ignore the "O" label
no_O_accuracy = accuracy_noO.sum() / accurate_rows_noO
print(no_O_accuracy)







