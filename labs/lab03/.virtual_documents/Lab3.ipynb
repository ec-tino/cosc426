





import Lab3
import nltk
import math


grammar = Lab3.create_pcfg('starter_grammar.txt')
sents = Lab3.generate_sentences(grammar, 5)

for sent in sents:
    print(f"prob:{sent[1]} \t sent: {sent[0]} \n")


sentence = 'a panda in a friend in a sandwich ate my pajamas'
parses = list(Lab3.parse_sentence("starter_grammar.txt", sentence))

for tree in parses:
    tree.pretty_print()
    print(math.log2(tree.prob()), '\n')


def is_grammatical(grammar_fname, sent):
    """
    Returns True if sentence is grammatical given grammar, False otherwise
    """
    pass
    


















