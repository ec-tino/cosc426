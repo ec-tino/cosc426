{
 "cells": [
  {
   "cell_type": "markdown",
   "id": "479c919f-474b-4e76-b5e3-592083bc3d5d",
   "metadata": {},
   "source": [
    "# Lab 3: Grammar writing\n",
    "### COSC 426: Fall 2025, Colgate University\n",
    "\n",
    "Use this notebook to answer the questions in `Lab3.md`. Make sure to include in this notebook all the tests you run to ensure that at each stage your grammar is correct. "
   ]
  },
  {
   "cell_type": "markdown",
   "id": "ad4d91b8-080a-4b55-b458-342cb98c90dc",
   "metadata": {},
   "source": [
    "## Part 0\n",
    "\n",
    "Run the following code chunks, and make sure you understand what these code chunks are doing, and the format of the output they generate.  "
   ]
  },
  {
   "cell_type": "code",
   "execution_count": 3,
   "id": "4536c1e3",
   "metadata": {},
   "outputs": [
    {
     "name": "stdout",
     "output_type": "stream",
     "text": [
      "Collecting nltk\n",
      "  Using cached nltk-3.9.1-py3-none-any.whl.metadata (2.9 kB)\n",
      "Collecting click (from nltk)\n",
      "  Downloading click-8.3.0-py3-none-any.whl.metadata (2.6 kB)\n",
      "Requirement already satisfied: joblib in /opt/anaconda3/envs/nlp/lib/python3.10/site-packages (from nltk) (1.5.2)\n",
      "Requirement already satisfied: regex>=2021.8.3 in /opt/anaconda3/envs/nlp/lib/python3.10/site-packages (from nltk) (2025.7.34)\n",
      "Requirement already satisfied: tqdm in /opt/anaconda3/envs/nlp/lib/python3.10/site-packages (from nltk) (4.67.1)\n",
      "Using cached nltk-3.9.1-py3-none-any.whl (1.5 MB)\n",
      "Downloading click-8.3.0-py3-none-any.whl (107 kB)\n",
      "Installing collected packages: click, nltk\n",
      "Successfully installed click-8.3.0 nltk-3.9.1\n"
     ]
    }
   ],
   "source": [
    "!pip install nltk "
   ]
  },
  {
   "cell_type": "code",
   "execution_count": 4,
   "id": "ae710c7a-e464-4f16-ba69-c674f2830777",
   "metadata": {},
   "outputs": [
    {
     "name": "stderr",
     "output_type": "stream",
     "text": [
      "[nltk_data] Downloading package punkt to\n",
      "[nltk_data]     /Users/ernestclottey/nltk_data...\n",
      "[nltk_data]   Unzipping tokenizers/punkt.zip.\n"
     ]
    }
   ],
   "source": [
    "import Lab3\n",
    "import nltk\n",
    "import math"
   ]
  },
  {
   "cell_type": "code",
   "execution_count": 5,
   "id": "e41c3b46-e1d6-4c03-ba1c-423453fc90d2",
   "metadata": {},
   "outputs": [
    {
     "name": "stdout",
     "output_type": "stream",
     "text": [
      "prob:-47.03023204396497 \t sent: a panda in her panda in the panda in my pajamas saw my panda in her sandwich in her friend in my friend \n",
      "\n",
      "prob:-10.766111939825723 \t sent: the pajamas saw my friend \n",
      "\n",
      "prob:-10.766111939825723 \t sent: my panda saw a pajamas \n",
      "\n",
      "prob:-29.105690741534776 \t sent: her pajamas in a panda saw my pajamas in my panda in a panda \n",
      "\n",
      "prob:-66.19988584423172 \t sent: my pajamas ate a sandwich in her pajamas in the panda in a friend in a sandwich in my pajamas in the panda in my friend in my panda in her panda \n",
      "\n"
     ]
    }
   ],
   "source": [
    "grammar = Lab3.create_pcfg('starter_grammar.txt')\n",
    "sents = Lab3.generate_sentences(grammar, 5)\n",
    "\n",
    "for sent in sents:\n",
    "    print(f\"prob:{sent[1]} \\t sent: {sent[0]} \\n\")"
   ]
  },
  {
   "cell_type": "code",
   "execution_count": 6,
   "id": "5db043c2-3ef7-4b5c-a49c-1f5c5ffcdc4e",
   "metadata": {},
   "outputs": [
    {
     "name": "stdout",
     "output_type": "stream",
     "text": [
      "                                 ROOT                                     \n",
      "                                  |                                        \n",
      "                                  S                                       \n",
      "                    ______________|_________________________               \n",
      "                   NP                                       |             \n",
      "      _____________|________                                |              \n",
      "     |                      PP                              |             \n",
      "     |          ____________|_____                          |              \n",
      "     |         |                  NP                        |             \n",
      "     |         |        __________|____                     |              \n",
      "     |         |       |               PP                   VP            \n",
      "     |         |       |           ____|___              ___|___           \n",
      "     NP        |       NP         |        NP           |       NP        \n",
      "  ___|____     |    ___|____      |     ___|_____       |    ___|_____     \n",
      "Det       N    P  Det       N     P   Det        N      V  Det        N   \n",
      " |        |    |   |        |     |    |         |      |   |         |    \n",
      " a      panda  in  a      friend  in   a      sandwich ate  my     pajamas\n",
      "\n",
      "-23.26918947381765 \n",
      "\n",
      "                                 ROOT                                     \n",
      "                                  |                                        \n",
      "                                  S                                       \n",
      "                    ______________|_________________________               \n",
      "                   NP                                       |             \n",
      "                ___|___________________                     |              \n",
      "               NP                      |                    |             \n",
      "      _________|___                    |                    |              \n",
      "     |             PP                  PP                   VP            \n",
      "     |          ___|___            ____|___              ___|___           \n",
      "     NP        |       NP         |        NP           |       NP        \n",
      "  ___|____     |    ___|____      |     ___|_____       |    ___|_____     \n",
      "Det       N    P  Det       N     P   Det        N      V  Det        N   \n",
      " |        |    |   |        |     |    |         |      |   |         |    \n",
      " a      panda  in  a      friend  in   a      sandwich ate  my     pajamas\n",
      "\n",
      "-23.26918947381765 \n",
      "\n"
     ]
    }
   ],
   "source": [
    "sentence = 'a panda in a friend in a sandwich ate my pajamas'\n",
    "parses = list(Lab3.parse_sentence(\"starter_grammar.txt\", sentence))\n",
    "\n",
    "for tree in parses:\n",
    "    tree.pretty_print()\n",
    "    print(math.log2(tree.prob()), '\\n')"
   ]
  },
  {
   "cell_type": "code",
   "execution_count": null,
   "id": "fb55f520-792f-43f4-a015-ea6ddf6a04ed",
   "metadata": {},
   "outputs": [],
   "source": [
    "def is_grammatical(grammar_fname, sent):\n",
    "    \"\"\"\n",
    "    Returns True if sentence is grammatical given grammar, False otherwise\n",
    "    \"\"\"\n",
    "    pass\n",
    "    "
   ]
  },
  {
   "cell_type": "markdown",
   "id": "26dad29a-3e7b-47eb-81ea-c81934b2bad4",
   "metadata": {},
   "source": [
    "## Part 1\n",
    "\n",
    "Answer the questions in Part 1. Feel free to add as many markdown or code chunks as you need. \n"
   ]
  },
  {
   "cell_type": "markdown",
   "id": "3d9bfbe5-ec5b-49af-b972-d590d3e0be66",
   "metadata": {},
   "source": [
    "## Part 2\n",
    "\n",
    "Answer the questions in Part 2. Feel free to add as many markdown or code chunks as you need. \n"
   ]
  },
  {
   "cell_type": "markdown",
   "id": "d080df44-7ad3-4bc4-af61-c21886a5d92f",
   "metadata": {},
   "source": [
    "## Part 3\n",
    "\n",
    "Answer the questions in Part 3. Feel free to add as many markdown or code chunks as you need. \n"
   ]
  },
  {
   "cell_type": "markdown",
   "id": "6bdbd6bb-5bbd-43f5-9600-1c0d44ef43bf",
   "metadata": {},
   "source": [
    "## Part 4\n",
    "\n",
    "Answer the questions in Part 4. Feel free to add as many markdown or code chunks as you need. \n"
   ]
  },
  {
   "cell_type": "markdown",
   "id": "9978136a-10e0-4d16-945a-43c0497c5ba9",
   "metadata": {},
   "source": [
    "## Part 5\n",
    "\n",
    "Answer the questions in Part 5. Feel free to add as many markdown or code chunks as you need. \n"
   ]
  },
  {
   "cell_type": "markdown",
   "id": "772b41ba-3d9f-4dc9-b2f0-28cc84ffebc9",
   "metadata": {},
   "source": [
    "## Part 6\n",
    "\n",
    "Answer the questions in Part 6. Feel free to add as many markdown or code chunks as you need. \n"
   ]
  }
 ],
 "metadata": {
  "kernelspec": {
   "display_name": "nlp",
   "language": "python",
   "name": "python3"
  },
  "language_info": {
   "codemirror_mode": {
    "name": "ipython",
    "version": 3
   },
   "file_extension": ".py",
   "mimetype": "text/x-python",
   "name": "python",
   "nbconvert_exporter": "python",
   "pygments_lexer": "ipython3",
   "version": "3.10.18"
  }
 },
 "nbformat": 4,
 "nbformat_minor": 5
}
