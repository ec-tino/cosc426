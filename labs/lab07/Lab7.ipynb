{
 "cells": [
  {
   "cell_type": "markdown",
   "id": "da2a2a61-9294-4606-95fd-2f946d44d95b",
   "metadata": {},
   "source": [
    "# Lab 7: Contextual Bag of Words with Pytorch\n",
    "### COSC 426: Fall 2025, Colgate University\n",
    "\n",
    "Use this notebook to answer the questions in `Lab7.md`. Make sure to include in this notebook all the tests and experiments you run. Make sure to also cite any external resources you use. "
   ]
  },
  {
   "cell_type": "markdown",
   "id": "b7883722-a497-47fc-9558-2989ad2fd1ed",
   "metadata": {},
   "source": [
    "## Part 1: Familiarize yourself with the different components of the CBOW model\n",
    "\n",
    "Add as many code chunks and markdown chunks as required to answer the questions in this part."
   ]
  },
  {
   "cell_type": "code",
   "execution_count": null,
   "id": "991157ba-9c0c-4f13-92ef-9227ebe58bdc",
   "metadata": {},
   "outputs": [],
   "source": [
    "import CBOW\n",
    "import torch"
   ]
  },
  {
   "cell_type": "markdown",
   "id": "338c6231-c18d-40c1-afe2-8cd828fe512d",
   "metadata": {},
   "source": [
    "### Part 1.1\n"
   ]
  },
  {
   "cell_type": "markdown",
   "id": "e6ce27bc-4a58-4d4a-bfb2-a5d142b838e5",
   "metadata": {},
   "source": [
    "### Part 1.2\n"
   ]
  },
  {
   "cell_type": "markdown",
   "id": "fce8e1a9-65bb-4260-ba04-74ece6d135f2",
   "metadata": {},
   "source": [
    "### Part 1.3\n"
   ]
  },
  {
   "cell_type": "markdown",
   "id": "3731643c-06fa-4a12-9719-9e454d2b4d31",
   "metadata": {},
   "source": [
    "### Part 1.4\n"
   ]
  },
  {
   "cell_type": "markdown",
   "id": "3a9b3718-def4-4d30-95bb-f8fa6844c52d",
   "metadata": {},
   "source": [
    "## Part 2: Train and evaluate a CBOW model on toy data, and explore the word embeddings\n",
    "\n",
    "Add as many code chunks and markdown chunks as required to answer the questions in this part.\n"
   ]
  },
  {
   "cell_type": "code",
   "execution_count": 1,
   "id": "ae946ac3-2e82-4fa6-81c5-bc2b50928095",
   "metadata": {},
   "outputs": [],
   "source": [
    "## Function to get device\n",
    "\n",
    "def get_device(args):\n",
    "    use_cuda = not args['cuda'] and torch.cuda.is_available()\n",
    "    use_mps = not args['mps'] and torch.backends.mps.is_available()\n",
    "\n",
    "    if use_cuda:\n",
    "        device = torch.device(\"cuda\")\n",
    "    elif use_mps:\n",
    "        device = torch.device(\"mps\")\n",
    "    else:\n",
    "        device = torch.device(\"cpu\")\n",
    "\n",
    "    return device\n"
   ]
  },
  {
   "cell_type": "markdown",
   "id": "3f6c4e93-be5d-451c-a105-2af22a8bc934",
   "metadata": {},
   "source": [
    "### Initialize model and datasets"
   ]
  },
  {
   "cell_type": "code",
   "execution_count": null,
   "id": "761f4dd7-a39b-4f07-8f66-380802400bcf",
   "metadata": {},
   "outputs": [],
   "source": []
  },
  {
   "cell_type": "markdown",
   "id": "ee894700-edad-4ecd-b7e4-81aff8bd816d",
   "metadata": {},
   "source": [
    "### Evaluate randomly initialized model\n",
    "\n",
    "* Report loss and accuracy on the training data\n",
    "* Report cosine similarity between the 4 word pairs"
   ]
  },
  {
   "cell_type": "code",
   "execution_count": null,
   "id": "7ab2debf-1778-42d0-a8a9-20ccdb61caaf",
   "metadata": {},
   "outputs": [],
   "source": []
  },
  {
   "cell_type": "markdown",
   "id": "e3e83258-eef1-4e51-a65d-8d8f16750fe7",
   "metadata": {},
   "source": [
    "### Train the model"
   ]
  },
  {
   "cell_type": "code",
   "execution_count": null,
   "id": "a3f841bf-0bd4-4fb9-a360-5363a8bb9420",
   "metadata": {},
   "outputs": [],
   "source": []
  },
  {
   "cell_type": "markdown",
   "id": "39fc44d7-1d6a-48d1-aefb-941d3de44622",
   "metadata": {},
   "source": [
    "### Evaluate trained model\n",
    "\n",
    "* Report loss and accuracy on the training data\n",
    "* Report cosine similarity between the 4 word pairs"
   ]
  },
  {
   "cell_type": "code",
   "execution_count": null,
   "id": "469c804b-3f28-4cd5-9438-8107d9fee6a0",
   "metadata": {},
   "outputs": [],
   "source": []
  },
  {
   "cell_type": "markdown",
   "id": "cc48bc7a-401d-4287-af51-0200c625558c",
   "metadata": {},
   "source": [
    "### Discussion and reflection\n",
    "\n",
    "* Do you think that the model has learned the task? Do you think the model has learned useful embeddings?\n",
    "\n",
    "* Does it make sense to use embedding size of 300 for this toy data? Why or why not? "
   ]
  },
  {
   "cell_type": "markdown",
   "id": "88186625-cf41-4648-8761-4c833c02270f",
   "metadata": {},
   "source": []
  },
  {
   "cell_type": "markdown",
   "id": "931af9d8-ff75-4a19-91bb-f82867442f99",
   "metadata": {},
   "source": [
    "## Part 3: Explore the role of training data on the word embeddings that are learned"
   ]
  },
  {
   "cell_type": "markdown",
   "id": "a2546f6d-e745-4881-82ff-2cf8fefcd67f",
   "metadata": {},
   "source": [
    "### Train models\n",
    "\n",
    "Answer question 1 here"
   ]
  },
  {
   "cell_type": "code",
   "execution_count": null,
   "id": "cb81824f-7e62-442f-873b-211bdc5d142f",
   "metadata": {},
   "outputs": [],
   "source": []
  },
  {
   "cell_type": "markdown",
   "id": "a79a958d-6607-4480-a298-4d80a8ace087",
   "metadata": {},
   "source": [
    "### Come up with list of words\n",
    "Answer questions 2 and 3 here"
   ]
  },
  {
   "cell_type": "markdown",
   "id": "bc6df4bd-39e3-42fb-8322-f73b48c4379c",
   "metadata": {},
   "source": []
  },
  {
   "cell_type": "markdown",
   "id": "5388b1f9-c3cc-4b7f-a47e-ca4e895837d4",
   "metadata": {},
   "source": [
    "### Test your hypotheses\n",
    "\n",
    "Answer question 4 here\n"
   ]
  },
  {
   "cell_type": "code",
   "execution_count": null,
   "id": "b6b6e709-1c0e-418c-aa7e-9b821573edaf",
   "metadata": {},
   "outputs": [],
   "source": []
  },
  {
   "cell_type": "markdown",
   "id": "b4810335-528e-439d-861b-dbe4adf0ee1d",
   "metadata": {},
   "source": [
    "## Part 4 (Optional): Explore the role of other factors on the word embeddings that are learned"
   ]
  }
 ],
 "metadata": {
  "kernelspec": {
   "display_name": "Python 3 (ipykernel)",
   "language": "python",
   "name": "python3"
  },
  "language_info": {
   "codemirror_mode": {
    "name": "ipython",
    "version": 3
   },
   "file_extension": ".py",
   "mimetype": "text/x-python",
   "name": "python",
   "nbconvert_exporter": "python",
   "pygments_lexer": "ipython3",
   "version": "3.9.18"
  }
 },
 "nbformat": 4,
 "nbformat_minor": 5
}
